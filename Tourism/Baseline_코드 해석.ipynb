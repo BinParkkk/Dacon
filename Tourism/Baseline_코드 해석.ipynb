{
  "cells": [
    {
      "cell_type": "markdown",
      "metadata": {
        "id": "8mEilfefYqb4"
      },
      "source": [
        "## Import"
      ],
      "id": "8mEilfefYqb4"
    },
    {
      "cell_type": "code",
      "execution_count": null,
      "metadata": {
        "id": "qPTWSFu-Yqb6"
      },
      "outputs": [],
      "source": [
        "import random\n",
        "import pandas as pd\n",
        "import numpy as np\n",
        "import os\n",
        "import cv2\n",
        "\n",
        "from sklearn import preprocessing\n",
        "from sklearn.feature_extraction.text import CountVectorizer\n",
        "from sklearn.model_selection import train_test_split\n",
        "\n",
        "import torch\n",
        "import torch.nn as nn\n",
        "import torch.optim as optim\n",
        "import torch.nn.functional as F\n",
        "from torch.utils.data import Dataset, DataLoader\n",
        "\n",
        "from tqdm.auto import tqdm\n",
        "\n",
        "import albumentations as A # fast image agumentation library\n",
        "from albumentations.pytorch.transforms import ToTensorV2 # 이미지 형 변환\n",
        "import torchvision.models as models\n",
        "\n",
        "from sklearn.metrics import f1_score, accuracy_score\n",
        "from sklearn.metrics import classification_report\n",
        "\n",
        "import warnings\n",
        "warnings.filterwarnings(action='ignore')"
      ],
      "id": "qPTWSFu-Yqb6"
    },
    {
      "cell_type": "code",
      "execution_count": null,
      "metadata": {
        "id": "NjkSKcj3Yqb8"
      },
      "outputs": [],
      "source": [
        "device = torch.device('cuda') if torch.cuda.is_available() else torch.device('cpu')\n",
        "# gpu 사용하기 위한 코드\n",
        "# cuda가 설치되어 있으면 gpu"
      ],
      "id": "NjkSKcj3Yqb8"
    },
    {
      "cell_type": "markdown",
      "metadata": {
        "id": "IKfY4MLYYqb8"
      },
      "source": [
        "## Hyperparameter Setting"
      ],
      "id": "IKfY4MLYYqb8"
    },
    {
      "cell_type": "code",
      "execution_count": null,
      "metadata": {
        "id": "Ag8ewGK5Yqb9"
      },
      "outputs": [],
      "source": [
        "CFG = {\n",
        "    'IMG_SIZE':128,\n",
        "    'EPOCHS':5,\n",
        "    'LEARNING_RATE':3e-4,\n",
        "    'BATCH_SIZE':64,\n",
        "    'SEED':41\n",
        "}\n",
        "# 이미지 사이즈, 이폭, 학습률, 배치사이즈, 시드 고정"
      ],
      "id": "Ag8ewGK5Yqb9"
    },
    {
      "cell_type": "markdown",
      "metadata": {
        "id": "NHVDirSbYqb-"
      },
      "source": [
        "## Fixed RandomSeed"
      ],
      "id": "NHVDirSbYqb-"
    },
    {
      "cell_type": "code",
      "execution_count": null,
      "metadata": {
        "id": "uDCxH4oxYqb-"
      },
      "outputs": [],
      "source": [
        "def seed_everything(seed):\n",
        "    random.seed(seed)\n",
        "    os.environ['PYTHONHASHSEED'] = str(seed)\n",
        "    np.random.seed(seed)\n",
        "    torch.manual_seed(seed)\n",
        "    torch.cuda.manual_seed(seed)\n",
        "    torch.backends.cudnn.deterministic = True\n",
        "    torch.backends.cudnn.benchmark = True\n",
        "\n",
        "seed_everything(CFG['SEED']) # Seed 고정"
      ],
      "id": "uDCxH4oxYqb-"
    },
    {
      "cell_type": "markdown",
      "metadata": {
        "id": "o7K4p5NkYqb_"
      },
      "source": [
        "## Data Load & Train/Validation Split"
      ],
      "id": "o7K4p5NkYqb_"
    },
    {
      "cell_type": "code",
      "execution_count": null,
      "metadata": {
        "id": "OQyg4_lJYqcA"
      },
      "outputs": [],
      "source": [
        "all_df = pd.read_csv('./train.csv')"
      ],
      "id": "OQyg4_lJYqcA"
    },
    {
      "cell_type": "code",
      "execution_count": null,
      "metadata": {
        "id": "EcTB0OXYYqcB"
      },
      "outputs": [],
      "source": [
        "train_df, val_df, _, _ = train_test_split(all_df, all_df['cat3'], test_size=0.2, random_state=CFG['SEED'])\n",
        "# train set, validation set 구별"
      ],
      "id": "EcTB0OXYYqcB"
    },
    {
      "cell_type": "markdown",
      "metadata": {
        "id": "3SepiZ4ZYqcB"
      },
      "source": [
        "## Label-Encoding"
      ],
      "id": "3SepiZ4ZYqcB"
    },
    {
      "cell_type": "code",
      "execution_count": null,
      "metadata": {
        "id": "D7cJtPy8YqcB",
        "outputId": "bcfb2c88-b28a-4083-b90d-6421238dc70b"
      },
      "outputs": [
        {
          "data": {
            "text/plain": [
              "LabelEncoder()"
            ]
          },
          "execution_count": 26,
          "metadata": {},
          "output_type": "execute_result"
        }
      ],
      "source": [
        "le = preprocessing.LabelEncoder()\n",
        "le.fit(train_df['cat3'].values)\n",
        "# 카테고리형 데이터를 수치형으로 변환하는 labelencoder"
      ],
      "id": "D7cJtPy8YqcB"
    },
    {
      "cell_type": "code",
      "execution_count": null,
      "metadata": {
        "id": "DWmb25r_YqcC"
      },
      "outputs": [],
      "source": [
        "train_df['cat3'] = le.transform(train_df['cat3'].values)\n",
        "val_df['cat3'] = le.transform(val_df['cat3'].values)\n",
        "# cat3에 labelencoder를 적용하기"
      ],
      "id": "DWmb25r_YqcC"
    },
    {
      "cell_type": "markdown",
      "metadata": {
        "id": "OkIwC6lBYqcD"
      },
      "source": [
        "## Vectorizer"
      ],
      "id": "OkIwC6lBYqcD"
    },
    {
      "cell_type": "code",
      "execution_count": null,
      "metadata": {
        "id": "RTlinSBbYqcD"
      },
      "outputs": [],
      "source": [
        "vectorizer = CountVectorizer(max_features=4096)\n",
        "# overview를 vectorize하는 vectorizer 선언, 최대 특성 수는 4096"
      ],
      "id": "RTlinSBbYqcD"
    },
    {
      "cell_type": "code",
      "execution_count": null,
      "metadata": {
        "id": "FgdPdmIbYqcD"
      },
      "outputs": [],
      "source": [
        "train_vectors = vectorizer.fit_transform(train_df['overview'])\n",
        "train_vectors = train_vectors.todense()\n",
        "\n",
        "val_vectors = vectorizer.transform(val_df['overview'])\n",
        "val_vectors = val_vectors.todense()"
      ],
      "id": "FgdPdmIbYqcD"
    },
    {
      "cell_type": "code",
      "execution_count": null,
      "metadata": {
        "id": "0mSQ4CZrYqcE",
        "outputId": "eb1e1b79-ab3c-4790-e8d4-76f7df521661"
      },
      "outputs": [
        {
          "data": {
            "text/plain": [
              "(13588, 4096)"
            ]
          },
          "execution_count": 30,
          "metadata": {},
          "output_type": "execute_result"
        }
      ],
      "source": [
        "train_vectors.shape"
      ],
      "id": "0mSQ4CZrYqcE"
    },
    {
      "cell_type": "code",
      "execution_count": null,
      "metadata": {
        "id": "GWoFexU4YqcE",
        "outputId": "82a333f9-1c1a-4759-c917-331b0e4d6f41"
      },
      "outputs": [
        {
          "data": {
            "text/plain": [
              "(3398, 4096)"
            ]
          },
          "execution_count": 31,
          "metadata": {},
          "output_type": "execute_result"
        }
      ],
      "source": [
        "val_vectors.shape"
      ],
      "id": "GWoFexU4YqcE"
    },
    {
      "cell_type": "markdown",
      "metadata": {
        "id": "P3xNr-gCYqcE"
      },
      "source": [
        "## CustomDataset"
      ],
      "id": "P3xNr-gCYqcE"
    },
    {
      "cell_type": "code",
      "execution_count": null,
      "metadata": {
        "id": "gWjyLPMDYqcE"
      },
      "outputs": [],
      "source": [
        "# Dataset 생성\n",
        "class CustomDataset(Dataset):\n",
        "    def __init__(self, img_path_list, text_vectors, label_list, transforms, infer=False):\n",
        "        self.img_path_list = img_path_list\n",
        "        self.text_vectors = text_vectors\n",
        "        self.label_list = label_list\n",
        "        self.transforms = transforms\n",
        "        self.infer = infer\n",
        "        \n",
        "    def __getitem__(self, index):\n",
        "        # NLP\n",
        "        text_vector = self.text_vectors[index]\n",
        "        \n",
        "        # Image 읽기\n",
        "        img_path = self.img_path_list[index]\n",
        "        image = cv2.imread(img_path)\n",
        "        \n",
        "        if self.transforms is not None:\n",
        "            image = self.transforms(image=image)['image'] # transforms(=image augmentation) 적용\n",
        "        \n",
        "        # Label\n",
        "        if self.infer: # infer == True, test_data로부터 label \"결과 추출\" 시 사용\n",
        "            return image, torch.Tensor(text_vector).view(-1)\n",
        "        else: # infer == False\n",
        "            label = self.label_list[index] # dataframe에서 label 가져와 \"학습\" 시 사용\n",
        "            return image, torch.Tensor(text_vector).view(-1), label\n",
        "        \n",
        "    def __len__(self):\n",
        "        return len(self.img_path_list)"
      ],
      "id": "gWjyLPMDYqcE"
    },
    {
      "cell_type": "code",
      "execution_count": null,
      "metadata": {
        "id": "JrdLk7BvYqcF"
      },
      "outputs": [],
      "source": [
        "train_transform = A.Compose([\n",
        "                            A.Resize(CFG['IMG_SIZE'],CFG['IMG_SIZE']),\n",
        "                            A.Normalize(mean=(0.485, 0.456, 0.406), std=(0.229, 0.224, 0.225), max_pixel_value=255.0, always_apply=False, p=1.0),\n",
        "                            ToTensorV2()\n",
        "                            ])\n",
        "\n",
        "test_transform = A.Compose([\n",
        "                            A.Resize(CFG['IMG_SIZE'],CFG['IMG_SIZE']),\n",
        "                            A.Normalize(mean=(0.485, 0.456, 0.406), std=(0.229, 0.224, 0.225), max_pixel_value=255.0, always_apply=False, p=1.0),\n",
        "                            ToTensorV2()\n",
        "                            ])"
      ],
      "id": "JrdLk7BvYqcF"
    },
    {
      "cell_type": "markdown",
      "metadata": {
        "id": "W6mw3pJXYqcF"
      },
      "source": [
        "- albumentations -> fast image augmentation library\n",
        "\n",
        "- albumentations.Compose -> transform = A.Compose([])을 이용하여 이미지와 라벨 각각에 Augmentation을 적용하기 위한 객체를 생성\n",
        "\n",
        "- albumentations.Resize(128, 128) -> 128*128 size로 resize\n",
        "- albumentations.Normalize() -> 입력 받은 이미지 값의 범위를 (0, 255) → (-1, 1) 범위로 줄여주는 역할, 위에서는 평균값, 분산값, 최대 픽셀값으로 img = (img - mean * max_pixel_value) / (std * max_pixel_value)을 계산.\n",
        "- ToTensorV2 -> tensor형 변환"
      ],
      "id": "W6mw3pJXYqcF"
    },
    {
      "cell_type": "code",
      "execution_count": null,
      "metadata": {
        "id": "28lLznspYqcF"
      },
      "outputs": [],
      "source": [
        "# __init__(self, img_path_list, text_vectors, label_list, transforms, infer=False)\n",
        "train_dataset = CustomDataset(train_df['img_path'].values, train_vectors, train_df['cat3'].values, train_transform)\n",
        "train_loader = DataLoader(train_dataset, batch_size = CFG['BATCH_SIZE'], shuffle=True, num_workers=0) # 6\n",
        "\n",
        "val_dataset = CustomDataset(val_df['img_path'].values, val_vectors, val_df['cat3'].values, test_transform)\n",
        "val_loader = DataLoader(val_dataset, batch_size=CFG['BATCH_SIZE'], shuffle=False, num_workers=0) # 6"
      ],
      "id": "28lLznspYqcF"
    },
    {
      "cell_type": "markdown",
      "metadata": {
        "id": "AjwCGRhnYqcG"
      },
      "source": [
        "- DataLoader: Dataset와 Sampler를 결합하고 지정된 데이터 세트에 대해 반복 가능한 기능을 제공.    \n",
        "    - dataset (Dataset): 데이터를 로드할 데이터 집합.   \n",
        "    - batch_size (int, optional): **how many samples** per batch to load (default: ``1``).   \n",
        "    - num_workers (int, optional): **how many subprocesses** to use for data loading. ``0`` means that the data will be    loaded in the main process. (default: ``0``) -> 6으로 설정 시 안돌아감([Errno 32] Broken pipe). 0으로 변경해야 됨"
      ],
      "id": "AjwCGRhnYqcG"
    },
    {
      "cell_type": "markdown",
      "metadata": {
        "id": "OOBrsD0nYqcG"
      },
      "source": [
        "## Model Define"
      ],
      "id": "OOBrsD0nYqcG"
    },
    {
      "cell_type": "code",
      "execution_count": null,
      "metadata": {
        "id": "O_hoH59gYqcG"
      },
      "outputs": [],
      "source": [
        "class CustomModel(nn.Module):\n",
        "    def __init__(self, num_classes=len(le.classes_)):\n",
        "        super(CustomModel, self).__init__()\n",
        "        # Image\n",
        "        self.cnn_extract = nn.Sequential(\n",
        "            nn.Conv2d(3, 8, kernel_size=3, stride=1, padding=1),\n",
        "                # input_channel = 3 : RGB 3개의 채널이기 때문\n",
        "                # out_channel = 8 : 출력하는 채널 8개\n",
        "                # stride = 1 : stride 만큼 이미지 이동하면서 cnn 수행\n",
        "                # padding = 1 : zero-padding할 사이즈\n",
        "            nn.ReLU(), # 사용할 활성화 함수: Relu를 사용\n",
        "            nn.MaxPool2d(kernel_size=2, stride=2), # 최댓값을 뽑아내는 맥스 풀링\n",
        "            nn.Conv2d(8, 16, kernel_size=3, stride=1, padding=1),\n",
        "            nn.ReLU(),\n",
        "            nn.MaxPool2d(kernel_size=2, stride=2),\n",
        "            nn.Conv2d(16, 32, kernel_size=3, stride=1, padding=1),\n",
        "            nn.ReLU(),\n",
        "            nn.MaxPool2d(kernel_size=2, stride=2),\n",
        "            nn.Conv2d(32, 64, kernel_size=4, stride=1, padding=1),\n",
        "            nn.ReLU(),\n",
        "            nn.MaxPool2d(kernel_size=2, stride=2)\n",
        "        )\n",
        "        # Text\n",
        "        self.nlp_extract = nn.Sequential(\n",
        "            nn.Linear(4096, 2048), # 선형회귀. 4096개의 입력으로 2048개의 출력\n",
        "            nn.ReLU(),\n",
        "            nn.Linear(2048, 1024), # 선형회귀. 2048개의 입력으로 1024개의 출력\n",
        "        )\n",
        "        # Classifier\n",
        "        self.classifier = nn.Sequential(\n",
        "            nn.Linear(4160, num_classes)\n",
        "            # 선형회귀. 4160개의 입력으로 num_classes, 즉 cat3의 종류 개수만큼의 출력\n",
        "            # 근데 왜 4160개? \"4160 - 1024 = 3136\"이고 \"3136 / 64 = 49\". 즉 이미지는 \"7*7*64\"로 출력됨.\n",
        "        )\n",
        "            \n",
        "\n",
        "    def forward(self, img, text):\n",
        "        img_feature = self.cnn_extract(img) # cnn_extract 적용\n",
        "        img_feature = torch.flatten(img_feature, start_dim=1) # 1차원으로 변환\n",
        "        text_feature = self.nlp_extract(text) # nlp_extract 적용\n",
        "        feature = torch.cat([img_feature, text_feature], axis=1) # 2개 연결(3136 + 1024)\n",
        "        output = self.classifier(feature) # classifier 적용\n",
        "        return output"
      ],
      "id": "O_hoH59gYqcG"
    },
    {
      "cell_type": "markdown",
      "metadata": {
        "id": "TajLAFGWYqcG"
      },
      "source": [
        "결론:\n",
        "- Image: conv -> ReLU -> MaxPooling -> conv -> relu -> maxpooling -> conv -> relu -> maxpooling -> conv -> relu -> maxpooling\n",
        "\n",
        "- Text: linear -> relu -> linear\n",
        "\n",
        "- classifier : linear"
      ],
      "id": "TajLAFGWYqcG"
    },
    {
      "cell_type": "markdown",
      "metadata": {
        "id": "9NWkAbI2YqcG"
      },
      "source": [
        "## Train"
      ],
      "id": "9NWkAbI2YqcG"
    },
    {
      "cell_type": "code",
      "execution_count": null,
      "metadata": {
        "id": "Q4SIuzRRYqcG"
      },
      "outputs": [],
      "source": [
        "def train(model, optimizer, train_loader, val_loader, scheduler, device):\n",
        "    model.to(device) # gpu(cpu)에 적용\n",
        "\n",
        "    criterion = nn.CrossEntropyLoss().to(device) # CrossEntropyLoss: 다중분류를 위한 손실함수\n",
        "    best_score = 0\n",
        "    best_model = None # 최고의 모델을 추출하기 위한 파라미터\n",
        "    \n",
        "    for epoch in range(1,CFG[\"EPOCHS\"]+1):\n",
        "        model.train() # 학습시킴.\n",
        "        train_loss = []\n",
        "        for img, text, label in tqdm(iter(train_loader)): # train_loader에서 img, text, label 가져옴\n",
        "            img = img.float().to(device)\n",
        "            text = text.to(device)\n",
        "            label = label.type(torch.LongTensor) # label type을 LongTensor로 형변환, 추가하여 에러 해결\n",
        "            label = label.to(device)\n",
        "            \n",
        "            optimizer.zero_grad() # 이전 루프에서 .grad에 저장된 값이 다음 루프의 업데이트에도 간섭하는 걸 방지, 0으로 초기화\n",
        "\n",
        "            model_pred = model(img, text) # 예측\n",
        "            \n",
        "            loss = criterion(model_pred, label) # 예측값과 실제값과의 손실 계산\n",
        "\n",
        "            loss.backward() # .backward() 를 호출하면 역전파가 시작\n",
        "            optimizer.step() # optimizer.step()을 호출하여 역전파 단계에서 수집된 변화도로 매개변수를 조정\n",
        "\n",
        "            train_loss.append(loss.item())\n",
        "            \n",
        "        # 모든 train_loss 가져옴\n",
        "        tr_loss = np.mean(train_loss)\n",
        "            \n",
        "        val_loss, val_score = validation(model, criterion, val_loader, device) # 검증 시작, 여기서 validation 함수 사용\n",
        "            \n",
        "        print(f'Epoch [{epoch}], Train Loss : [{tr_loss:.5f}] Val Loss : [{val_loss:.5f}] Val Score : [{val_score:.5f}]')\n",
        "        \n",
        "        if scheduler is not None:\n",
        "            scheduler.step()\n",
        "            # scheduler의 의미: Learning Rate Scheduler => learning rate를 조절한다. \n",
        "            # DACON에서는 CosineAnnealingLR 또는 CosineAnnealingWarmRestarts 를 주로 사용한다.\n",
        "            \n",
        "        if best_score < val_score: # 최고의 val_score을 가진 모델에 대해서만 최종적용을 시킴\n",
        "            best_score = val_score\n",
        "            best_model = model\n",
        "    \n",
        "    return best_model # val_score가 가장 높은 모델을 출력"
      ],
      "id": "Q4SIuzRRYqcG"
    },
    {
      "cell_type": "code",
      "execution_count": null,
      "metadata": {
        "id": "ZDH3nVsTYqcH"
      },
      "outputs": [],
      "source": [
        "def score_function(real, pred):\n",
        "    return f1_score(real, pred, average=\"weighted\")\n",
        "\n",
        "def validation(model, criterion, val_loader, device):\n",
        "    model.eval() # nn.Module에서 train time과 eval time에서 수행하는 다른 작업을 수행할 수 있도록 switching 하는 함수\n",
        "    \n",
        "    model_preds = [] # 예측값\n",
        "    true_labels = [] # 실제값\n",
        "    \n",
        "    val_loss = []\n",
        "    \n",
        "    with torch.no_grad():\n",
        "        for img, text, label in tqdm(iter(val_loader)): # val_loader에서 img, text, label 가져옴\n",
        "            img = img.float().to(device)\n",
        "            text = text.to(device)\n",
        "            label = label.type(torch.LongTensor) # label type을 LongTensor로 형변환, 추가하여 에러 해결\n",
        "            label = label.to(device)\n",
        "            \n",
        "            model_pred = model(img, text)\n",
        "            \n",
        "            loss = criterion(model_pred, label) # 예측값, 실제값으로 손실함수 적용 -> loss 추출\n",
        "            \n",
        "            val_loss.append(loss.item()) # loss 출력, val_loss에 저장\n",
        "            \n",
        "            model_preds += model_pred.argmax(1).detach().cpu().numpy().tolist()\n",
        "            true_labels += label.detach().cpu().numpy().tolist()\n",
        "        \n",
        "    test_weighted_f1 = score_function(true_labels, model_preds) # 실제 라벨값들과 예측한 라벨값들에 대해 f1 점수 계산\n",
        "    return np.mean(val_loss), test_weighted_f1 # 각각 val_loss, val_score에 적용됨"
      ],
      "id": "ZDH3nVsTYqcH"
    },
    {
      "cell_type": "markdown",
      "metadata": {
        "id": "gStGzRq_YqcH"
      },
      "source": [
        "## Run!!"
      ],
      "id": "gStGzRq_YqcH"
    },
    {
      "cell_type": "code",
      "execution_count": null,
      "metadata": {
        "tags": [],
        "colab": {
          "referenced_widgets": [
            "970fb5ea76dc4b78a957370c1c81ee77",
            "9d09a89302a44259878e43b7d779ebdf",
            "6f8cd79f16864f3785f762e66dcd56fd",
            "2d7beb20eab844f595265748e4263d5f",
            "85c6c544b4584dc1bb75e92df40cc225",
            "3a9dec68ddb04929829a929806dab517",
            "916b5d6ead744b3a98a9d1e9081e4ec6",
            "ec5f883fc96b4671bceba18aecb8999f",
            "4f9055798b1d44e28dac4136e4f6bdef",
            "9b3a8d415c9848b6b773fcdc85315ab8"
          ]
        },
        "id": "g6x70sUqYqcH",
        "outputId": "a5c7dbde-af4a-485e-a665-d30d15740ded"
      },
      "outputs": [
        {
          "data": {
            "application/vnd.jupyter.widget-view+json": {
              "model_id": "970fb5ea76dc4b78a957370c1c81ee77",
              "version_major": 2,
              "version_minor": 0
            },
            "text/plain": [
              "  0%|          | 0/213 [00:00<?, ?it/s]"
            ]
          },
          "metadata": {},
          "output_type": "display_data"
        },
        {
          "data": {
            "application/vnd.jupyter.widget-view+json": {
              "model_id": "9d09a89302a44259878e43b7d779ebdf",
              "version_major": 2,
              "version_minor": 0
            },
            "text/plain": [
              "  0%|          | 0/54 [00:00<?, ?it/s]"
            ]
          },
          "metadata": {},
          "output_type": "display_data"
        },
        {
          "name": "stdout",
          "output_type": "stream",
          "text": [
            "Epoch [1], Train Loss : [2.61568] Val Loss : [1.84828] Val Score : [0.49755]\n"
          ]
        },
        {
          "data": {
            "application/vnd.jupyter.widget-view+json": {
              "model_id": "6f8cd79f16864f3785f762e66dcd56fd",
              "version_major": 2,
              "version_minor": 0
            },
            "text/plain": [
              "  0%|          | 0/213 [00:00<?, ?it/s]"
            ]
          },
          "metadata": {},
          "output_type": "display_data"
        },
        {
          "data": {
            "application/vnd.jupyter.widget-view+json": {
              "model_id": "2d7beb20eab844f595265748e4263d5f",
              "version_major": 2,
              "version_minor": 0
            },
            "text/plain": [
              "  0%|          | 0/54 [00:00<?, ?it/s]"
            ]
          },
          "metadata": {},
          "output_type": "display_data"
        },
        {
          "name": "stdout",
          "output_type": "stream",
          "text": [
            "Epoch [2], Train Loss : [1.35058] Val Loss : [1.54869] Val Score : [0.58459]\n"
          ]
        },
        {
          "data": {
            "application/vnd.jupyter.widget-view+json": {
              "model_id": "85c6c544b4584dc1bb75e92df40cc225",
              "version_major": 2,
              "version_minor": 0
            },
            "text/plain": [
              "  0%|          | 0/213 [00:00<?, ?it/s]"
            ]
          },
          "metadata": {},
          "output_type": "display_data"
        },
        {
          "data": {
            "application/vnd.jupyter.widget-view+json": {
              "model_id": "3a9dec68ddb04929829a929806dab517",
              "version_major": 2,
              "version_minor": 0
            },
            "text/plain": [
              "  0%|          | 0/54 [00:00<?, ?it/s]"
            ]
          },
          "metadata": {},
          "output_type": "display_data"
        },
        {
          "name": "stdout",
          "output_type": "stream",
          "text": [
            "Epoch [3], Train Loss : [0.75052] Val Loss : [1.67442] Val Score : [0.60755]\n"
          ]
        },
        {
          "data": {
            "application/vnd.jupyter.widget-view+json": {
              "model_id": "916b5d6ead744b3a98a9d1e9081e4ec6",
              "version_major": 2,
              "version_minor": 0
            },
            "text/plain": [
              "  0%|          | 0/213 [00:00<?, ?it/s]"
            ]
          },
          "metadata": {},
          "output_type": "display_data"
        },
        {
          "data": {
            "application/vnd.jupyter.widget-view+json": {
              "model_id": "ec5f883fc96b4671bceba18aecb8999f",
              "version_major": 2,
              "version_minor": 0
            },
            "text/plain": [
              "  0%|          | 0/54 [00:00<?, ?it/s]"
            ]
          },
          "metadata": {},
          "output_type": "display_data"
        },
        {
          "name": "stdout",
          "output_type": "stream",
          "text": [
            "Epoch [4], Train Loss : [0.37256] Val Loss : [1.92578] Val Score : [0.60978]\n"
          ]
        },
        {
          "data": {
            "application/vnd.jupyter.widget-view+json": {
              "model_id": "4f9055798b1d44e28dac4136e4f6bdef",
              "version_major": 2,
              "version_minor": 0
            },
            "text/plain": [
              "  0%|          | 0/213 [00:00<?, ?it/s]"
            ]
          },
          "metadata": {},
          "output_type": "display_data"
        },
        {
          "data": {
            "application/vnd.jupyter.widget-view+json": {
              "model_id": "9b3a8d415c9848b6b773fcdc85315ab8",
              "version_major": 2,
              "version_minor": 0
            },
            "text/plain": [
              "  0%|          | 0/54 [00:00<?, ?it/s]"
            ]
          },
          "metadata": {},
          "output_type": "display_data"
        },
        {
          "name": "stdout",
          "output_type": "stream",
          "text": [
            "Epoch [5], Train Loss : [0.15623] Val Loss : [2.12711] Val Score : [0.61714]\n"
          ]
        }
      ],
      "source": [
        "model = CustomModel()\n",
        "model.eval()\n",
        "optimizer = torch.optim.Adam(params = model.parameters(), lr = CFG[\"LEARNING_RATE\"])\n",
        "scheduler = None\n",
        "\n",
        "infer_model = train(model, optimizer, train_loader, val_loader, scheduler, device)"
      ],
      "id": "g6x70sUqYqcH"
    },
    {
      "cell_type": "markdown",
      "metadata": {
        "id": "bUGqdi96YqcH"
      },
      "source": [
        "## Inference"
      ],
      "id": "bUGqdi96YqcH"
    },
    {
      "cell_type": "code",
      "execution_count": null,
      "metadata": {
        "id": "i57J7xBqYqcH"
      },
      "outputs": [],
      "source": [
        "test_df = pd.read_csv('./test.csv')\n",
        "test_vectors = vectorizer.transform(test_df['overview'])\n",
        "test_vectors = test_vectors.todense()"
      ],
      "id": "i57J7xBqYqcH"
    },
    {
      "cell_type": "code",
      "execution_count": null,
      "metadata": {
        "id": "0H65ivkQYqcI"
      },
      "outputs": [],
      "source": [
        "test_dataset = CustomDataset(test_df['img_path'].values, test_vectors, None, test_transform, True)\n",
        "test_loader = DataLoader(test_dataset, batch_size=CFG['BATCH_SIZE'], shuffle=False, num_workers=0)"
      ],
      "id": "0H65ivkQYqcI"
    },
    {
      "cell_type": "code",
      "execution_count": null,
      "metadata": {
        "id": "6JL-kbgiYqcI"
      },
      "outputs": [],
      "source": [
        "def inference(model, test_loader, deivce):\n",
        "    model.to(device)\n",
        "    model.eval()\n",
        "    \n",
        "    model_preds = []\n",
        "    \n",
        "    with torch.no_grad():\n",
        "        for img, text in tqdm(iter(test_loader)):\n",
        "            img = img.float().to(device)\n",
        "            text = text.to(device)\n",
        "            \n",
        "            model_pred = model(img, text)\n",
        "            model_preds += model_pred.argmax(1).detach().cpu().numpy().tolist()\n",
        "    # img, text에 따른 예측값들을 model_preds 배열에 넣어 리턴\n",
        "    return model_preds"
      ],
      "id": "6JL-kbgiYqcI"
    },
    {
      "cell_type": "code",
      "execution_count": null,
      "metadata": {
        "colab": {
          "referenced_widgets": [
            "81402dbf8e164136b11886d994c3fc31"
          ]
        },
        "id": "um1Bl-Z1YqcI",
        "outputId": "bedeff43-5e71-4756-dfa6-67d79be1a41e"
      },
      "outputs": [
        {
          "data": {
            "application/vnd.jupyter.widget-view+json": {
              "model_id": "81402dbf8e164136b11886d994c3fc31",
              "version_major": 2,
              "version_minor": 0
            },
            "text/plain": [
              "  0%|          | 0/114 [00:00<?, ?it/s]"
            ]
          },
          "metadata": {},
          "output_type": "display_data"
        }
      ],
      "source": [
        "preds = inference(infer_model, test_loader, device)"
      ],
      "id": "um1Bl-Z1YqcI"
    },
    {
      "cell_type": "markdown",
      "metadata": {
        "id": "LVAdfN8AYqcI"
      },
      "source": [
        "## Submission"
      ],
      "id": "LVAdfN8AYqcI"
    },
    {
      "cell_type": "code",
      "execution_count": null,
      "metadata": {
        "id": "iO9HW8TjYqcI"
      },
      "outputs": [],
      "source": [
        "submit = pd.read_csv('./sample_submission.csv')"
      ],
      "id": "iO9HW8TjYqcI"
    },
    {
      "cell_type": "code",
      "execution_count": null,
      "metadata": {
        "id": "fSvSVjEXYqcI"
      },
      "outputs": [],
      "source": [
        "submit['cat3'] = le.inverse_transform(preds)"
      ],
      "id": "fSvSVjEXYqcI"
    },
    {
      "cell_type": "code",
      "execution_count": null,
      "metadata": {
        "id": "rfLyrJ1uYqcI"
      },
      "outputs": [],
      "source": [
        "submit.to_csv('./submit_jgw.csv', index=False)\n",
        "# 제출 파일로 저장"
      ],
      "id": "rfLyrJ1uYqcI"
    }
  ],
  "metadata": {
    "kernelspec": {
      "display_name": "Python 3",
      "language": "python",
      "name": "python3"
    },
    "language_info": {
      "codemirror_mode": {
        "name": "ipython",
        "version": 3
      },
      "file_extension": ".py",
      "mimetype": "text/x-python",
      "name": "python",
      "nbconvert_exporter": "python",
      "pygments_lexer": "ipython3",
      "version": "3.7.6"
    },
    "colab": {
      "provenance": [],
      "collapsed_sections": []
    }
  },
  "nbformat": 4,
  "nbformat_minor": 5
}